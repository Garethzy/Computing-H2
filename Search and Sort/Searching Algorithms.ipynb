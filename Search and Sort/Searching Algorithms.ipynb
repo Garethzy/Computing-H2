{
 "cells": [
  {
   "cell_type": "markdown",
   "metadata": {},
   "source": [
    "Notes: https://drive.google.com/file/d/115KCURZSivz78I5bBNWFVbVkrtTVvzG4/view"
   ]
  },
  {
   "cell_type": "markdown",
   "metadata": {},
   "source": [
    "# Searching Algorithms\n",
    "1. Linear Search\n",
    "2. Binary Search\n",
    "3. Hash Table Search → Linear Probing/Chaining"
   ]
  },
  {
   "cell_type": "markdown",
   "metadata": {},
   "source": [
    "## 1. Linear Search\n",
    "\n",
    "Function requires two parameters: list and key\n",
    "\n",
    "Searches through the items in the list sequentially until the key is found\n",
    "\n",
    "Time Complexity: O(n)\n"
   ]
  },
  {
   "cell_type": "code",
   "execution_count": 1,
   "metadata": {},
   "outputs": [
    {
     "name": "stdout",
     "output_type": "stream",
     "text": [
      "1\n"
     ]
    }
   ],
   "source": [
    "def LinearSearch(A, key):\n",
    "    pos = 0\n",
    "    found = False\n",
    "    \n",
    "    while (not found) and (pos < len(A)):\n",
    "        if A[pos] == key:\n",
    "            found = True\n",
    "        else:\n",
    "            pos += 1\n",
    "            \n",
    "    if found:\n",
    "        return pos\n",
    "    else:\n",
    "         return -1\n",
    "\n",
    "print(LinearSearch([30, 40, 50, 60, 70, 80], 40))"
   ]
  },
  {
   "cell_type": "markdown",
   "metadata": {},
   "source": [
    "## 2. Binary Search\n",
    "Only applicable for ordered lists\n",
    "\n",
    "Steps:\n",
    "1. Go to the middle of the list and check if the key is larger or smaller than the middle element\n",
    "2. If it is larger, take the numbers above the middle element and find  the middle element of the higher portion\n",
    "3. Continue the process until the element is found or if the low vale exceeds the high value\n",
    "\n",
    "Time complexity: O(log2n)"
   ]
  },
  {
   "cell_type": "code",
   "execution_count": 4,
   "metadata": {},
   "outputs": [
    {
     "name": "stdout",
     "output_type": "stream",
     "text": [
      "1\n"
     ]
    }
   ],
   "source": [
    "def BinarySearch(A, key):\n",
    "    found = False\n",
    "    low = 0\n",
    "    high = len(A) - 1\n",
    "    \n",
    "    while (not found) and (low <= high):\n",
    "        mid = (low + high) // 2\n",
    "        if A[mid] == key:\n",
    "            found = True\n",
    "        elif A[mid] > key:\n",
    "            high = mid - 1\n",
    "        elif A[mid] < key:\n",
    "            low = mid + 1\n",
    "            \n",
    "    \n",
    "    if found:\n",
    "        return mid\n",
    "    else:\n",
    "        return -1\n",
    "    \n",
    "    \n",
    "print(BinarySearch([30, 40, 50, 60, 70, 80], 40))"
   ]
  },
  {
   "cell_type": "markdown",
   "metadata": {},
   "source": [
    "## 3. Hash Table Search\n",
    "\n",
    "A hash table is a data structure where the location of each item is determined by a hash function of the item itself. This approach is very time efficient since only one location needs to be examined but it is not space efficient since there are many unused locations\n",
    "\n",
    "Collisions may occur which is when two items produce the same value from their hash functions.\n",
    "\n",
    "Time Complexity\n",
    "- With Collision: O(n)\n",
    "- Without Collision: O(1)\n",
    "\n",
    "Strategies:\n",
    "\n",
    "1. **Linear Probing**\n",
    "\n",
    "Creation: \n",
    "A linear search of the table begins at the collision index and continues until an empty slot is found in which the item can be stored. The sequence of locations searched is known as the probe sequence.\n",
    "\n",
    "Search:\n",
    "Apply hash function to determine position at which the key should be found. There are three cases: 1. If location is empty, key is not inside 2. If location contains the data, the saerch is successful 3. If location contains a different value, begin a circular linear search at the location and continue until either the item is found or we reach an empty location or the starting location.\n",
    "\n",
    "\n",
    "2. **Chaining**\n",
    "\n",
    "Creation:\n",
    "Uses a hash table that is an array of linked lists to store the items. When a collision occurs, we add a new node containing the value to the linked list pointed to by the node in the collision index.\n",
    "```\n",
    "            Hash Table\n",
    "table[0]    |        | → |Adams|Null|\n",
    "table[1]    |  Null  | \n",
    "table[2]    |        | → |Derry|    | → |David|Null|\n",
    "table[3]    |        | → |Zack|Null|\n",
    "```\n",
    "\n",
    "Search:\n",
    "Simply apply the hash function to the item and use one of the search algorithms for linked lists. \n",
    "\n",
    "**Chaining is generally preferred**\n",
    "- Generally faster because only items that hash to the same table location are searched\n",
    "- Linear probe addressing assumes a fixed-length table while in chaining, entries are dynamically allocated.\n",
    "- But for chaining there is additionally space required to allocate the additional node pointer field."
   ]
  },
  {
   "cell_type": "code",
   "execution_count": 1,
   "metadata": {},
   "outputs": [
    {
     "name": "stdout",
     "output_type": "stream",
     "text": [
      "[44, 12, 80, 36, 92, 5, 59, 29, 40, 42, 60]\n"
     ]
    }
   ],
   "source": [
    "## Hash table creation with linear probing\n",
    "\n",
    "def h(i):\n",
    "    return(i%11)\n",
    "\n",
    "table = [29,42,5,44,92,59,40,36,12,60,80]\n",
    "hash = [0,0,0,0,0,0,0,0,0,0,0]\n",
    "\n",
    "for i in table:\n",
    "    x = h(i)\n",
    "    if hash[x] == 0:\n",
    "        hash[x] = i \n",
    "    else:\n",
    "        while hash[x] != 0:\n",
    "            x = x + 1\n",
    "            if x == 11:\n",
    "                x = 0\n",
    "        hash[x] = i\n",
    "\n",
    "print(hash)"
   ]
  },
  {
   "cell_type": "code",
   "execution_count": 3,
   "metadata": {},
   "outputs": [
    {
     "name": "stdout",
     "output_type": "stream",
     "text": [
      "[[44, 'Null'], [12, 12, 'Null'], 'Null', [36, 80, 'Null'], [26, 92, 59, 'Null'], [5, 60, 'Null'], 'Null', [40, 'Null'], 'Null', [42, 'Null'], 'Null']\n"
     ]
    }
   ],
   "source": [
    "# Hash Table Search with Chaining\n",
    "def h(i):\n",
    "    return(i%11)\n",
    "\n",
    "table = [26,42,5,44,92,59,40,36,12,60,80,12]\n",
    "hash = [\"Null\",\"Null\",\"Null\",\"Null\",\"Null\",\"Null\",\"Null\",\"Null\",\"Null\",\"Null\",\"Null\"]\n",
    "\n",
    "for i in table:\n",
    "    x = h(i)\n",
    "    if hash[x] == \"Null\":\n",
    "        hash[x] = [i, hash[x]]\n",
    "    else:\n",
    "        index = len(hash[x]) -1\n",
    "        hash[x].insert(index,i)\n",
    "        \n",
    "print(hash)"
   ]
  }
 ],
 "metadata": {
  "kernelspec": {
   "display_name": "Python 3",
   "language": "python",
   "name": "python3"
  },
  "language_info": {
   "codemirror_mode": {
    "name": "ipython",
    "version": 3
   },
   "file_extension": ".py",
   "mimetype": "text/x-python",
   "name": "python",
   "nbconvert_exporter": "python",
   "pygments_lexer": "ipython3",
   "version": "3.6.4"
  }
 },
 "nbformat": 4,
 "nbformat_minor": 2
}
