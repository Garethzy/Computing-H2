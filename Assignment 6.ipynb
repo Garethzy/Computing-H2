{
 "cells": [
  {
   "cell_type": "code",
   "execution_count": 8,
   "metadata": {},
   "outputs": [
    {
     "name": "stdout",
     "output_type": "stream",
     "text": [
      "876543210\n",
      "876543210\n"
     ]
    }
   ],
   "source": [
    "# Q1 Method 1 reversed method\n",
    "myString = '012345678'\n",
    "reverse = list(reversed(myString))\n",
    "print(''.join(reverse))\n",
    "\n",
    "# Q1 Method 2 string slicing\n",
    "reverse = myString[::-1]\n",
    "print(reverse)\n"
   ]
  },
  {
   "cell_type": "code",
   "execution_count": 8,
   "metadata": {},
   "outputs": [
    {
     "name": "stdout",
     "output_type": "stream",
     "text": [
      "Enter binary1010\n",
      "A\n"
     ]
    }
   ],
   "source": [
    "# Q2 \n",
    "\n",
    "h = '0123456789ABCDEF'\n",
    "\n",
    "def Binarytohex(binary):\n",
    "    val = 0\n",
    "    count = 0\n",
    "    while binary != 0:\n",
    "        remainder = binary % 10\n",
    "        if remainder == 1:\n",
    "            val += 2 ** count \n",
    "        count += 1\n",
    "        binary = binary // 10\n",
    "    hexa = h[val]\n",
    "    \n",
    "    print(hexa)\n",
    "    \n",
    "binary = int(input(\"Enter binary\"))\n",
    "Binarytohex(binary)"
   ]
  },
  {
   "cell_type": "code",
   "execution_count": null,
   "metadata": {},
   "outputs": [],
   "source": [
    "# Q2\n",
    "\n",
    "h = '0123456789ABCDEF'\n",
    "\n",
    "def Binarytohex():\n",
    "    binary = input(\"Enter binary: \")\n",
    "    if (len(binary) % 4) != 0:    \n",
    "        binary = '0' * (4 - (len(binary) % 4)) + binary    #format the binary correctly by adding 0's to make it processable\n",
    "    hexa = ''   #initialising string of hexadecimal\n",
    "\n",
    "    while binary != '':  \n",
    "        power = 0\n",
    "        proper_binary = binary[:4]  #taking first 4 chr from right side of string\n",
    "        val = 0\n",
    "\n",
    "        while proper_binary != 0:\n",
    "            remainder = int(proper_binary) % 10        \n",
    "            if remainder == 1:\n",
    "                val += 2 ** power\n",
    "            power += 1\n",
    "            proper_binary = int(proper_binary) // 10\n",
    "\n",
    "        hexa += h[val]\n",
    "        binary = binary[4:]  #removing first 4 chr of string\n",
    "        \n",
    "    print(hexa)\n",
    "\n",
    "Binarytohex()"
   ]
  },
  {
   "cell_type": "code",
   "execution_count": null,
   "metadata": {},
   "outputs": [],
   "source": [
    "# Q3\n",
    "file1 = input(\"First file name: \")\n",
    "with open(file1, \"r\") as r:\n",
    "    contents = r.read()\n",
    "\n",
    "file2 = input(\"Second file name: \")\n",
    "with open(file2, \"w\") as f:\n",
    "    f.write(contents)"
   ]
  },
  {
   "cell_type": "code",
   "execution_count": null,
   "metadata": {},
   "outputs": [],
   "source": [
    "# Q4\n",
    "with open('test.txt', \"r\") as f:\n",
    "    employees = f.readlines()\n",
    "    \n",
    "alldata = []\n",
    "\n",
    "for employee in employees:\n",
    "    name, hourlywage, hoursworked = employee.strip().split(\",\")\n",
    "\n",
    "    alldata.append({\n",
    "        \"last name\": name,\n",
    "        \"hourly wage\": hourlywage,\n",
    "        \"hours worked\": hoursworked\n",
    "    })\n",
    "print(\"last name  hourly wage  hours worked\")\n",
    "\n",
    "for data in alldata:\n",
    "    print(f\"{data['last name']} \\t {data['hourly wage']} \\t {data['hours worked']}\")"
   ]
  },
  {
   "cell_type": "code",
   "execution_count": null,
   "metadata": {},
   "outputs": [],
   "source": []
  }
 ],
 "metadata": {
  "kernelspec": {
   "display_name": "Python 3.6.4 64-bit",
   "language": "python",
   "name": "python36464bit630523409afc430c9f07344155e99ed5"
  },
  "language_info": {
   "codemirror_mode": {
    "name": "ipython",
    "version": 3
   },
   "file_extension": ".py",
   "mimetype": "text/x-python",
   "name": "python",
   "nbconvert_exporter": "python",
   "pygments_lexer": "ipython3",
   "version": "3.6.4"
  }
 },
 "nbformat": 4,
 "nbformat_minor": 2
}
